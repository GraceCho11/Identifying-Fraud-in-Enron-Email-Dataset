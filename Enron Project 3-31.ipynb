{
 "cells": [
  {
   "cell_type": "markdown",
   "metadata": {},
   "source": [
    "# Identifying Fraud from Enron Financial and Email Data Set  "
   ]
  },
  {
   "cell_type": "markdown",
   "metadata": {},
   "source": [
    "## Introduction \n",
    "\n",
    "Enron was one of the major American energy companies based originally in Houston, Texas in which by 2002, had completely collapsed into bankruptcy as a result of audit failure and corporate fraud. In this study, we will attempt to build a person of interest identifier based on the Enron dataset which is a dictionary combined from the Enron financial and email data where there exists a one to one correspondence between each person and a key value pair in the dictionary.\n"
   ]
  },
  {
   "cell_type": "markdown",
   "metadata": {},
   "source": [
    "## Analysis "
   ]
  },
  {
   "cell_type": "markdown",
   "metadata": {},
   "source": [
    "Using the codes below, first we are going to create a scatter plot showing the relationship between the salary and bonus. These features were manually selected because analyzing the salary and bonus distribution may help lead us to identify the POIs (person of interest)."
   ]
  },
  {
   "cell_type": "code",
   "execution_count": 33,
   "metadata": {},
   "outputs": [
    {
     "name": "stdout",
     "output_type": "stream",
     "text": [
      "146\n",
      "94\n"
     ]
    },
    {
     "data": {
      "image/png": "[encoded data removed]",
      "text/plain": [
       "<matplotlib.figure.Figure at 0x1a149b1bd0>"
      ]
     },
     "metadata": {},
     "output_type": "display_data"
    }
   ],
   "source": [
    "\n",
    "import matplotlib.pyplot as plt\n",
    "import sys\n",
    "import pickle\n",
    "from sklearn import preprocessing\n",
    "from time import time\n",
    "from sklearn.naive_bayes import GaussianNB\n",
    "from sklearn.metrics import accuracy_score\n",
    "from sklearn.metrics import precision_score\n",
    "from sklearn.metrics import recall_score\n",
    "from sklearn.grid_search import GridSearchCV\n",
    "sys.path.append(\"../tools/\")\n",
    "\n",
    "\n",
    "from feature_format import featureFormat\n",
    "from feature_format import targetFeatureSplit\n",
    "\n",
    "\n",
    "## We are loading the dictionary that contains the dataset\n",
    "data_dict = pickle.load(open(\"final_project_dataset.pkl\", \"r\") )\n",
    "\n",
    "## We are counting the number of exeutives in our data.\n",
    "print len(data_dict.keys())\n",
    "\n",
    "## Here we are removing the outliers \n",
    "features = [\"salary\", \"bonus\"]\n",
    "data_dict.pop('TOTAL', 0)\n",
    "data = featureFormat(data_dict, features)\n",
    "\n",
    "## Here we are removing NAN's from our dataset\n",
    "outliers = []\n",
    "for key in data_dict:\n",
    "   val = data_dict[key]['salary']\n",
    "   if val == 'NaN':\n",
    "        continue\n",
    "   outliers.append((key, int(val)))\n",
    "\n",
    "outliers_final = (sorted(outliers,key=lambda x:x[1],reverse=True)[:4])\n",
    "\n",
    "\n",
    "## Now we are ready to plot the features:\n",
    "for point in data:\n",
    "   salary = point[0]\n",
    "   bonus = point[1]\n",
    "   plt.scatter( salary, bonus )\n",
    "\n",
    "plt.title(\"Salary versus Bonus\")\n",
    "plt.xlabel(\"Salary\")\n",
    "plt.ylabel(\"Bonus\")\n",
    "\n",
    "t=0\n",
    "for point in data:\n",
    "   t=t+1\n",
    "print t\n",
    "\n",
    "\n",
    "\n",
    "\n",
    "\n"
   ]
  },
  {
   "cell_type": "markdown",
   "metadata": {},
   "source": [
    "Within the salary versus the bonus scatter plot, there is a total of 94 data points. \n",
    "\n",
    "There are 146 executives. \n",
    "\n",
    "There are 77 non-POIs and 14 POIs. Originally, there were 18 POIs. However, because we will be removing the primary outliers, there will only be 14 POIs in this analysis. \n",
    "\n",
    "In the following codes below, we will remove the primary outliers. Since the number of POIs is small, it is not necessary to remove the other outliers apart from the primary ones because removing the additional outliers may further imbalance the dataset."
   ]
  },
  {
   "cell_type": "code",
   "execution_count": 34,
   "metadata": {
    "scrolled": true
   },
   "outputs": [
    {
     "data": {
      "text/plain": [
       "[('SKILLING JEFFREY K', 1111258),\n",
       " ('LAY KENNETH L', 1072321),\n",
       " ('FREVERT MARK A', 1060932),\n",
       " ('PICKERING MARK R', 655037)]"
      ]
     },
     "execution_count": 34,
     "metadata": {},
     "output_type": "execute_result"
    }
   ],
   "source": [
    "##The below code corresponds to outliers in terms of salary figure per year. \n",
    "\n",
    "outliers_final"
   ]
  },
  {
   "cell_type": "markdown",
   "metadata": {},
   "source": [
    "The below code corresponds to the outliers in terms of bonus figure per year. "
   ]
  },
  {
   "cell_type": "code",
   "execution_count": 35,
   "metadata": {},
   "outputs": [],
   "source": [
    "data_dict = pickle.load(open(\"final_project_dataset.pkl\", \"r\") )"
   ]
  },
  {
   "cell_type": "code",
   "execution_count": 36,
   "metadata": {},
   "outputs": [],
   "source": [
    "## We're removing outliers below\n",
    "features = [\"salary\", \"bonus\"]\n",
    "data_dict.pop('TOTAL', 0)\n",
    "data = featureFormat(data_dict, features)\n",
    "\n",
    "## Now we are removing the NAN's from dataset\n",
    "outliers2 = []\n",
    "for key in data_dict:\n",
    "   val = data_dict[key]['bonus']\n",
    "   if val == 'NaN':\n",
    "       continue\n",
    "   outliers2.append((key, int(val)))\n",
    "\n",
    "outliers_final2 = (sorted(outliers2,key=lambda x:x[1],reverse=True)[:4])"
   ]
  },
  {
   "cell_type": "code",
   "execution_count": 37,
   "metadata": {},
   "outputs": [
    {
     "data": {
      "text/plain": [
       "[('LAVORATO JOHN J', 8000000),\n",
       " ('LAY KENNETH L', 7000000),\n",
       " ('SKILLING JEFFREY K', 5600000),\n",
       " ('BELDEN TIMOTHY N', 5249999)]"
      ]
     },
     "execution_count": 37,
     "metadata": {},
     "output_type": "execute_result"
    }
   ],
   "source": [
    "outliers_final2"
   ]
  },
  {
   "cell_type": "code",
   "execution_count": 38,
   "metadata": {},
   "outputs": [
    {
     "name": "stdout",
     "output_type": "stream",
     "text": [
      "{'salary': 213999, 'to_messages': 7991, 'deferral_payments': 2144013, 'total_payments': 5501630, 'exercised_stock_options': 953136, 'bonus': 5249999, 'restricted_stock': 157569, 'shared_receipt_with_poi': 5521, 'restricted_stock_deferred': 'NaN', 'total_stock_value': 1110705, 'expenses': 17355, 'loan_advances': 'NaN', 'from_messages': 484, 'other': 210698, 'from_this_person_to_poi': 108, 'poi': True, 'director_fees': 'NaN', 'deferred_income': -2334434, 'long_term_incentive': 'NaN', 'email_address': 'tim.belden@enron.com', 'from_poi_to_this_person': 228}\n",
      "{'salary': 339288, 'to_messages': 7259, 'deferral_payments': 'NaN', 'total_payments': 10425757, 'exercised_stock_options': 4158995, 'bonus': 8000000, 'restricted_stock': 1008149, 'shared_receipt_with_poi': 3962, 'restricted_stock_deferred': 'NaN', 'total_stock_value': 5167144, 'expenses': 49537, 'loan_advances': 'NaN', 'from_messages': 2585, 'other': 1552, 'from_this_person_to_poi': 411, 'poi': False, 'director_fees': 'NaN', 'deferred_income': 'NaN', 'long_term_incentive': 2035380, 'email_address': 'john.lavorato@enron.com', 'from_poi_to_this_person': 528}\n"
     ]
    }
   ],
   "source": [
    "print data_dict['BELDEN TIMOTHY N']\n",
    "print data_dict['LAVORATO JOHN J']"
   ]
  },
  {
   "cell_type": "markdown",
   "metadata": {},
   "source": [
    "Assuming that money played an incentive to commit fraud, we were trying to see if we can find outliers, --people who received unusually high bonuses and salaries. We found that the scatterplot generated 4 outliers in terms of both the salary and bonus. The salary outliers corresponded with the following people: Skilling Jeffrey K, Lay Kenneth L, Frevert Mark A, and Pickering Mark R. The bonus outliers corresponded with the following people: Lavorato John J, Lay Kenneth L, Skilling Jeffrey K, and Belden Timothy N. We see that Skilling Jeffrey K and Lay Kenneth L earned both high salaries and bonuses. However, people who earned high salaries did not necessarily correspond with receiving high bonuses. For example, Lavorato John J and Belden Timothy N received unusually high bonuses but did not turn out to be outliers in terms of salary. \n",
    "\n",
    "Since salary income is fixed, let us focus more on the bonus outliers. We expect that high salaries would correspond with earning high bonuses. However, this is not the case according to our data. Lovorato John J earned an unusually high 8,000,000 bonus but his salary figure of 339,288 was not within the outlier range in terms of salary. Also, Belden Timothy N earned a 5,249,999 bonus while his salary figure of 213,999 was no where near the highest salary range in our data. \n",
    "\n",
    "The people who earned both high salaries and bonuses were Skilling Jeffrey K and Lay Kenneth L."
   ]
  },
  {
   "cell_type": "markdown",
   "metadata": {},
   "source": [
    "Now we're going to run a regression on salary versus bonus. The variance score is 0.32. The data is mainly clustered close to the regression line in the bottom left hand side of the plot below. However, as the salary and the bonus increase, the data becomes more spread out. We see that this regression is not a strong model for our data. "
   ]
  },
  {
   "cell_type": "code",
   "execution_count": 39,
   "metadata": {},
   "outputs": [
    {
     "name": "stdout",
     "output_type": "stream",
     "text": [
      "('Coefficients: \\n', array([[ 4.44516239]]))\n",
      "Mean squared error: 1327632798051.18\n",
      "Variance score: 0.32\n"
     ]
    },
    {
     "data": {
      "text/plain": [
       "Text(0,0.5,u'Bonus')"
      ]
     },
     "execution_count": 39,
     "metadata": {},
     "output_type": "execute_result"
    },
    {
     "data": {
      "image/png": "[encoded data removed]",
      "text/plain": [
       "<matplotlib.figure.Figure at 0x1a12d212d0>"
      ]
     },
     "metadata": {},
     "output_type": "display_data"
    }
   ],
   "source": [
    "%matplotlib inline\n",
    "import matplotlib.pyplot as plt\n",
    "import numpy as np\n",
    "from sklearn import datasets, linear_model\n",
    "from sklearn.metrics import mean_squared_error, r2_score\n",
    "\n",
    "## Create linear regression object\n",
    "regr = linear_model.LinearRegression()\n",
    "\n",
    "## X is our salary data \n",
    "X=(data[:,0])\n",
    "\n",
    "## Y is our bonus data \n",
    "Y=(data[:,1])\n",
    "\n",
    "## Train the model using the training sets\n",
    "regr.fit(X[:, np.newaxis], Y[:, np.newaxis])\n",
    "\n",
    "## Make predictions using the testing set\n",
    "Y_pred = regr.predict(X[:, np.newaxis])\n",
    "\n",
    "## The Coefficients\n",
    "print('Coefficients: \\n', regr.coef_)\n",
    "\n",
    "## The Mean Squared Error\n",
    "print(\"Mean squared error: %.2f\"\n",
    "      % mean_squared_error(Y, Y_pred))\n",
    "## Explained variance score: 1 is perfect prediction\n",
    "print('Variance score: %.2f' % r2_score(Y, Y_pred))\n",
    "\n",
    "## Now we are plotting the outputs:\n",
    "plt.scatter(X, Y,  color='black')\n",
    "plt.plot(X, Y_pred, color='blue', linewidth=3)\n",
    "\n",
    "plt.title(\"Salary versus Bonus\")\n",
    "plt.xlabel(\"Salary\")\n",
    "plt.ylabel(\"Bonus\")\n",
    "\n"
   ]
  },
  {
   "cell_type": "markdown",
   "metadata": {},
   "source": [
    "We tried to remove our bonus and salary outliers in our linear regression below. "
   ]
  },
  {
   "cell_type": "code",
   "execution_count": 40,
   "metadata": {},
   "outputs": [],
   "source": [
    "def removekey(d, key):\n",
    "   r = dict(d)\n",
    "   del r[key]\n",
    "   return r"
   ]
  },
  {
   "cell_type": "code",
   "execution_count": 41,
   "metadata": {},
   "outputs": [],
   "source": [
    "## Create salary data set and remove the six outliers, same guys from both salary and bonus\n",
    "outliers_salary = removekey(outliers,outliers_final[0][0])\n",
    "outliers_salary = removekey(outliers_salary,outliers_final[1][0])\n",
    "outliers_salary = removekey(outliers_salary,outliers_final[2][0])\n",
    "outliers_salary = removekey(outliers_salary,outliers_final[3][0])\n",
    "\n",
    "## We are now removing the salary outliers:\n",
    "outliers_salary = removekey(outliers_salary,outliers_final2[0][0])\n",
    "outliers_salary = removekey(outliers_salary,outliers_final2[3][0])\n",
    "\n",
    "## We are now creating the bonus data set and removing the six outliers, same guys from both salary and bonus\n",
    "outliers_bonus = removekey(outliers2,outliers_final[0][0])\n",
    "outliers_bonus = removekey(outliers_bonus,outliers_final[1][0])\n",
    "outliers_bonus = removekey(outliers_bonus,outliers_final[2][0])\n",
    "outliers_bonus = removekey(outliers_bonus,outliers_final[3][0])\n",
    "\n",
    "## We are now removing the bonus outliers\n",
    "outliers_bonus = removekey(outliers_bonus,outliers_final2[0][0])\n",
    "outliers_bonus = removekey(outliers_bonus,outliers_final2[3][0])\n"
   ]
  },
  {
   "cell_type": "code",
   "execution_count": 42,
   "metadata": {},
   "outputs": [
    {
     "name": "stdout",
     "output_type": "stream",
     "text": [
      "('Coefficients: \\n', array([[-0.73849292]]))\n",
      "Mean squared error: 573737964088.74\n",
      "Variance score: 0.01\n"
     ]
    },
    {
     "data": {
      "text/plain": [
       "Text(0,0.5,u'Bonus')"
      ]
     },
     "execution_count": 42,
     "metadata": {},
     "output_type": "execute_result"
    },
    {
     "data": {
      "image/png": "[encoded data removed]",
      "text/plain": [
       "<matplotlib.figure.Figure at 0x1a12d21ed0>"
      ]
     },
     "metadata": {},
     "output_type": "display_data"
    }
   ],
   "source": [
    "%matplotlib inline\n",
    "import matplotlib.pyplot as plt\n",
    "import numpy as np\n",
    "from sklearn import datasets, linear_model\n",
    "from sklearn.metrics import mean_squared_error, r2_score\n",
    "\n",
    "## Create linear regression object\n",
    "regr = linear_model.LinearRegression()\n",
    "\n",
    "## X is our salary data \n",
    "X=np.array(outliers_salary.values())\n",
    "X=X[:-13]\n",
    "\n",
    "## Y is our bonus data \n",
    "Y=np.array(outliers_bonus.values())\n",
    "\n",
    "## We're now training the model using the training sets\n",
    "regr.fit(X[:, np.newaxis], Y[:, np.newaxis])\n",
    "\n",
    "## Make predictions using the testing set\n",
    "Y_pred = regr.predict(X[:, np.newaxis])\n",
    "\n",
    "## The Coefficients\n",
    "print('Coefficients: \\n', regr.coef_)\n",
    "\n",
    "## The mean squared error\n",
    "print(\"Mean squared error: %.2f\"\n",
    "      % mean_squared_error(Y, Y_pred))\n",
    "\n",
    "## Variance score\n",
    "print('Variance score: %.2f' % r2_score(Y, Y_pred))\n",
    "\n",
    "## Plot the outputs\n",
    "plt.scatter(X, Y,  color='black')\n",
    "plt.plot(X, Y_pred, color='blue', linewidth=3)\n",
    "\n",
    "plt.title(\"Salary versus Bonus\")\n",
    "plt.xlabel(\"Salary\")\n",
    "plt.ylabel(\"Bonus\")\n",
    "\n"
   ]
  },
  {
   "cell_type": "markdown",
   "metadata": {},
   "source": [
    "We removed our outliers for bonus and salary in the plot above. However, we discovered that the variance score actually became worse when we removed our outliers. Thus, linear regression is not a good model for analyzing our data. \n",
    "\n",
    "We are now going to run a PCA plot for the Salary and Bonus. 0.98928806 and  0.01071194 are our eigenvalues that resulted from our PCA plot. The red corresponds with the direction of the first principal component, and the cyane corresponds with the direction of the second principal component. We see that the red line is a better fit to our data. "
   ]
  },
  {
   "cell_type": "code",
   "execution_count": 43,
   "metadata": {},
   "outputs": [
    {
     "name": "stdout",
     "output_type": "stream",
     "text": [
      "[ 0.98928806  0.01071194]\n"
     ]
    },
    {
     "data": {
      "image/png": "[encoded data removed]",
      "text/plain": [
       "<matplotlib.figure.Figure at 0x1a15885290>"
      ]
     },
     "metadata": {},
     "output_type": "display_data"
    }
   ],
   "source": [
    "import matplotlib\n",
    "\n",
    "def doPCA():\n",
    "    from sklearn.decomposition import PCA \n",
    "    pca = PCA(n_components=2)\n",
    "    pca.fit(data)\n",
    "    return pca\n",
    "\n",
    "pca = doPCA()\n",
    "print pca.explained_variance_ratio_\n",
    "first_pc = pca.components_[0]\n",
    "second_pc = pca.components_[1]\n",
    "\n",
    "transformed_data = pca.transform(data)\n",
    "\n",
    "\n",
    "for ii, jj in zip(transformed_data,data):\n",
    "    plt.scatter( first_pc[0]*ii[0], first_pc[1]*ii[0], color=\"r\")\n",
    "    plt.scatter( second_pc[0]*ii[1], second_pc[1]*ii[1], color=\"c\")\n",
    "    plt.scatter( jj[0], jj[1], color=\"b\")\n",
    "\n",
    "plt.xlabel(\"Salary\")\n",
    "plt.ylabel(\"Bonus\")\n",
    "plt.title(\"Salary vs Bonus\")\n",
    "\n",
    "xfmt = matplotlib.ticker.ScalarFormatter()\n",
    "xfmt.set_powerlimits((-3,3)) \n",
    "matplotlib.pyplot.gca().xaxis.set_major_formatter(xfmt) "
   ]
  },
  {
   "cell_type": "markdown",
   "metadata": {},
   "source": [
    "We found the POIs from the training set which includes the features as well as the correct answers. Below, the names that resulted as \"True\" correspond with the POIs. In our case, there are 3 people who are POIs: Jeffrey Skilling, Kenneth Lay, and Timothy Belden."
   ]
  },
  {
   "cell_type": "code",
   "execution_count": 44,
   "metadata": {},
   "outputs": [
    {
     "data": {
      "text/plain": [
       "True"
      ]
     },
     "execution_count": 44,
     "metadata": {},
     "output_type": "execute_result"
    }
   ],
   "source": [
    "data_dict[\"SKILLING JEFFREY K\"][\"poi\"]"
   ]
  },
  {
   "cell_type": "code",
   "execution_count": 45,
   "metadata": {},
   "outputs": [
    {
     "data": {
      "text/plain": [
       "False"
      ]
     },
     "execution_count": 45,
     "metadata": {},
     "output_type": "execute_result"
    }
   ],
   "source": [
    "data_dict[\"LAVORATO JOHN J\"][\"poi\"]"
   ]
  },
  {
   "cell_type": "code",
   "execution_count": 46,
   "metadata": {},
   "outputs": [
    {
     "data": {
      "text/plain": [
       "True"
      ]
     },
     "execution_count": 46,
     "metadata": {},
     "output_type": "execute_result"
    }
   ],
   "source": [
    "data_dict[\"LAY KENNETH L\"][\"poi\"]"
   ]
  },
  {
   "cell_type": "code",
   "execution_count": 47,
   "metadata": {},
   "outputs": [
    {
     "data": {
      "text/plain": [
       "True"
      ]
     },
     "execution_count": 47,
     "metadata": {},
     "output_type": "execute_result"
    }
   ],
   "source": [
    " data_dict[\"BELDEN TIMOTHY N\"][\"poi\"]"
   ]
  },
  {
   "cell_type": "code",
   "execution_count": 48,
   "metadata": {},
   "outputs": [
    {
     "data": {
      "text/plain": [
       "False"
      ]
     },
     "execution_count": 48,
     "metadata": {},
     "output_type": "execute_result"
    }
   ],
   "source": [
    "data_dict[\"FREVERT MARK A\"][\"poi\"]"
   ]
  },
  {
   "cell_type": "code",
   "execution_count": 49,
   "metadata": {},
   "outputs": [
    {
     "data": {
      "text/plain": [
       "False"
      ]
     },
     "execution_count": 49,
     "metadata": {},
     "output_type": "execute_result"
    }
   ],
   "source": [
    "data_dict[\"PICKERING MARK R\"][\"poi\"]"
   ]
  },
  {
   "cell_type": "code",
   "execution_count": 50,
   "metadata": {},
   "outputs": [
    {
     "name": "stdout",
     "output_type": "stream",
     "text": [
      "[('SKILLING JEFFREY K', 1111258), ('LAY KENNETH L', 1072321), ('FREVERT MARK A', 1060932), ('PICKERING MARK R', 655037)]\n"
     ]
    }
   ],
   "source": [
    "### remove any outliers before proceeding further\n",
    "features = [\"salary\", \"bonus\"]\n",
    "data_dict.pop('TOTAL', 0)\n",
    "data = featureFormat(data_dict, features)\n",
    "\n",
    "### remove NAN's from dataset\n",
    "outliers = []\n",
    "for key in data_dict:\n",
    "    val = data_dict[key]['salary']\n",
    "    if val == 'NaN':\n",
    "        continue\n",
    "    outliers.append((key, int(val)))\n",
    "\n",
    "outliers_final = (sorted(outliers,key=lambda x:x[1],reverse=True)[:4])\n",
    "### print top 4 salaries\n",
    "print outliers_final"
   ]
  },
  {
   "cell_type": "code",
   "execution_count": 51,
   "metadata": {},
   "outputs": [
    {
     "name": "stdout",
     "output_type": "stream",
     "text": [
      "51\n"
     ]
    }
   ],
   "source": [
    "## NaN is missing value in this case. We're counting the T to findout the missing values. \n",
    "T=0\n",
    "\n",
    "outliers = []\n",
    "for key in data_dict:\n",
    "   val = data_dict[key]['salary']\n",
    "   if val == 'NaN':\n",
    "        T=T+1\n",
    "        continue\n",
    "   outliers.append((key, int(val)))\n",
    "\n",
    "outliers_final = (sorted(outliers,key=lambda x:x[1],reverse=True)[:4])\n",
    "print T\n",
    "\n"
   ]
  },
  {
   "cell_type": "code",
   "execution_count": 52,
   "metadata": {},
   "outputs": [
    {
     "name": "stdout",
     "output_type": "stream",
     "text": [
      "64\n"
     ]
    }
   ],
   "source": [
    "T=0\n",
    "\n",
    "outliers = []\n",
    "for key in data_dict:\n",
    "   val = data_dict[key]['bonus']\n",
    "   if val == 'NaN':\n",
    "        T=T+1\n",
    "        continue\n",
    "   outliers.append((key, int(val)))\n",
    "\n",
    "outliers_final = (sorted(outliers,key=lambda x:x[1],reverse=True)[:4])\n",
    "print T\n"
   ]
  },
  {
   "cell_type": "markdown",
   "metadata": {},
   "source": [
    "There are 51 missing values for the salary feature, and 64 missing values for the bonus feature. "
   ]
  },
  {
   "cell_type": "markdown",
   "metadata": {},
   "source": [
    "Because the linear regression was not a good model for our data, we will include the outliers back into our analysis. \n",
    "\n",
    "Now, we will create two new features: normalized_email_from_poi and normalized_email-to_poi. These new features were chosen because conceptually, it makes sense to try to analyze the relative proportion of email communications between a poi and another person. Because there were no strong patterns found between the already existing features ('from_poi_to_this_person' and 'from_this_person_to_poi'), we are engineering new features by modifying them through normalization. "
   ]
  },
  {
   "cell_type": "code",
   "execution_count": 53,
   "metadata": {},
   "outputs": [
    {
     "data": {
      "image/png": "[encoded data removed]",
      "text/plain": [
       "<matplotlib.figure.Figure at 0x1a149c5850>"
      ]
     },
     "metadata": {},
     "output_type": "display_data"
    }
   ],
   "source": [
    "## New chosen features are: normalized_email_to_poi,normalized_email_from_poi\n",
    "\n",
    "def dict_to_list(key,normalizer):\n",
    "    new_list=[]\n",
    "\n",
    "    for i in data_dict:\n",
    "        if data_dict[i][key]==\"NaN\" or data_dict[i][normalizer]==\"NaN\":\n",
    "            new_list.append(0.)\n",
    "        elif data_dict[i][key]>=0:\n",
    "            new_list.append(float(data_dict[i][key])/float(data_dict[i][normalizer]))\n",
    "    return new_list\n",
    "\n",
    "## We are now creating two lists of new features:\n",
    "normalized_email_from_poi=dict_to_list(\"from_poi_to_this_person\",\"to_messages\")\n",
    "normalized_email_to_poi=dict_to_list(\"from_this_person_to_poi\",\"from_messages\")\n",
    "\n",
    "## We are now putting new features into the data_dict\n",
    "count=0\n",
    "for i in data_dict:\n",
    "    data_dict[i][\"normalized_email_from_poi\"]=normalized_email_from_poi[count]\n",
    "    data_dict[i][\"normalized_email_to_poi\"]=normalized_email_to_poi[count]\n",
    "    count +=1\n",
    "\n",
    "    \n",
    "features_list = [\"poi\", \"normalized_email_from_poi\", \"normalized_email_to_poi\"]    \n",
    "\n",
    "my_dataset = data_dict\n",
    "data = featureFormat(my_dataset, features_list)\n",
    "\n",
    "## Now we can plot our new features:\n",
    "\n",
    "for point in data:\n",
    "    from_poi = point[1]\n",
    "    to_poi = point[2]\n",
    "    x=plt.scatter( from_poi, to_poi, color='green')\n",
    "    if point[0] == 1:\n",
    "        y=plt.scatter(from_poi, to_poi, color=\"blue\", marker=\"*\")\n",
    "\n",
    "plt.legend((x,y),(\"POI\",\"Non-POI\"))\n",
    " \n",
    "    \n",
    "        \n",
    "plt.xlabel(\"Fraction of Emails this Person Receives from a POI\")\n",
    "plt.ylabel(\"Fraction of Emails this Person Sends to a POI\")\n",
    "plt.title(\"Fraction of Emails Sent versus Fraction of Emails Received from POI\")\n",
    "plt.show()\n",
    "\n"
   ]
  },
  {
   "cell_type": "code",
   "execution_count": 54,
   "metadata": {
    "scrolled": true
   },
   "outputs": [
    {
     "data": {
      "image/png": "[encoded data removed]",
      "text/plain": [
       "<matplotlib.figure.Figure at 0x1a15d38d10>"
      ]
     },
     "metadata": {},
     "output_type": "display_data"
    },
    {
     "name": "stdout",
     "output_type": "stream",
     "text": [
      "POI:  14\n",
      "non-POI 77\n"
     ]
    }
   ],
   "source": [
    "## Checking and printing to see how many POIs and Non-POIs there are \n",
    "\n",
    "number_of_poi = 0\n",
    "number_of_nonpoi = 0\n",
    "for point in data:\n",
    "  from_poi = point[1]\n",
    "  to_poi = point[2]\n",
    "  x=plt.scatter( from_poi, to_poi, color='green')\n",
    "  number_of_nonpoi = number_of_nonpoi+1\n",
    "  if point[0] == 1:\n",
    "      y=plt.scatter(from_poi, to_poi, color=\"blue\", marker=\"*\")\n",
    "      number_of_poi = number_of_poi+1\n",
    "\n",
    "    \n",
    "plt.xlabel(\"Fraction of Emails this Person Receives from a POI\")\n",
    "plt.ylabel(\"Fraction of Emails this Person Sends to a POI\")\n",
    "plt.title(\"Fraction of Emails Sent versus Fraction of Emails Received from POI\")\n",
    "plt.show()\n",
    "\n",
    "print \"POI: \", number_of_poi\n",
    "print \"non-POI\", number_of_nonpoi\n",
    "\n"
   ]
  },
  {
   "cell_type": "markdown",
   "metadata": {},
   "source": [
    "As we can see from the code above, there were originally 18 POIs, but because we removed the primary outliers, there are 14 POIs. There are 77 non-POIs. "
   ]
  },
  {
   "cell_type": "markdown",
   "metadata": {},
   "source": [
    "According to the scatter-plot, there is no clear display of pattern. Thus, in our next step, we will be applying the decision tree algorithm to rank the features. We are not going to use feature scaling because it’s not necessary for our decision tree algorithm application. \n",
    "\n",
    "We are using the decision tree classifier to score all the possible features according to their ability to match the target function. The features were selected using a semi-automated method-- (introducing human intuition into the feature selection). Semi-automated method in this case means selecting the normalized_email_from_poi and the normalized_email_to_poi features."
   ]
  },
  {
   "cell_type": "code",
   "execution_count": 55,
   "metadata": {},
   "outputs": [
    {
     "name": "stdout",
     "output_type": "stream",
     "text": [
      "17\n",
      "accuracy 0.772727272727\n",
      "Feature Ranking: \n",
      "1 feature bonus (0.423529411765)\n",
      "2 feature salary (0.213025210084)\n",
      "3 feature normalized_email_from_poi (0.204318689501)\n",
      "4 feature normalized_email_to_poi (0.0633283693224)\n",
      "5 feature loan_advances (0.0588235294118)\n",
      "6 feature deferral_payments (0.036974789916)\n",
      "7 feature deferred_income (0.0)\n",
      "8 feature total_stock_value (0.0)\n",
      "9 feature exercised_stock_options (0.0)\n",
      "10 feature restricted_stock_deferred (0.0)\n",
      "11 feature expenses (0.0)\n",
      "12 feature long_term_incentive (0.0)\n",
      "13 feature total_payments (0.0)\n",
      "14 feature shared_receipt_with_poi (0.0)\n",
      "15 feature restricted_stock (0.0)\n",
      "16 feature director_fees (0.0)\n"
     ]
    }
   ],
   "source": [
    "##Decision Tree Application \n",
    "\n",
    "import numpy as np\n",
    "import pandas as pd\n",
    "from sklearn.cross_validation import train_test_split\n",
    "from sklearn.tree import DecisionTreeClassifier\n",
    "from sklearn.metrics import accuracy_score\n",
    "from sklearn import tree\n",
    "\n",
    "\n",
    "features_list = [\"poi\",\"bonus\", \"salary\",\"normalized_email_from_poi\",\"normalized_email_to_poi\",\n",
    "                 'loan_advances','deferral_payments',\n",
    "                 'deferred_income', 'total_stock_value', 'exercised_stock_options',\n",
    "                'restricted_stock_deferred','expenses','long_term_incentive','total_payments', 'shared_receipt_with_poi', 'restricted_stock', 'director_fees']\n",
    "\n",
    "## The below code is to see how many features we have in total from above:\n",
    "print len(features_list)\n",
    "\n",
    "\n",
    "data = featureFormat(my_dataset, features_list)\n",
    "\n",
    "labels, features = targetFeatureSplit(data)\n",
    "\n",
    "#We are now splitting the data into training versus testing data\n",
    "from sklearn import cross_validation\n",
    "features_training, features_testing, labels_training, labels_testing = cross_validation.train_test_split(features, labels, test_size=0.3, random_state=42)\n",
    "\n",
    "\n",
    "\n",
    "clf = DecisionTreeClassifier(min_samples_split=7)\n",
    "clf.fit(features_training,labels_training)\n",
    "score = clf.score(features_testing,labels_testing)\n",
    "pred= clf.predict(features_testing)\n",
    "print 'accuracy', score\n",
    "\n",
    "\n",
    "\n",
    "importances = clf.feature_importances_\n",
    "import numpy as np\n",
    "indices = np.argsort(importances)[::-1]\n",
    "print 'Feature Ranking: '\n",
    "for i in range(16):\n",
    "    print \"{} feature {} ({})\".format(i+1,features_list[i+1],importances[indices[i]])\n",
    "\n",
    "\n",
    "\n"
   ]
  },
  {
   "cell_type": "markdown",
   "metadata": {},
   "source": [
    "The reason for choosing the new features (normalized_email_from_poi and normalized_email_to_poi), --is that if there is a high level of email traffic  between a known poi and another employee, it is plausible that the employee may also be a poi.\n",
    "\n",
    "There are 17 features including the two new features we added in the code above. The scores of the features are displayed above, and our two new features ranked within the top 4. However, because the accuracy score for most of the features turned out to be less than 0.3, we will now try to see if the accuracy can be improved by using different algorithms and applying fine tuning. "
   ]
  },
  {
   "cell_type": "markdown",
   "metadata": {},
   "source": [
    "## Fine Tuning "
   ]
  },
  {
   "cell_type": "markdown",
   "metadata": {},
   "source": [
    "Models are parameterized in machine learning and their behaviors can be fine tuned. Since a model can have many parameters, we must look for ways to find the best combination of features and parameter settings to enable the selected model to optimally solve the machine learning problem we are trying to study. \n",
    "\n",
    "In the context of machine learning, parameter tuning's end goal is to find the best hyper-parameters. Hyperparameters are usually fixed before the training process and are the pre-defined parameters of the model, --i.e. the K of K-means. Learned parameters are the parameters learned automatically in the training process of the model, -- i.e. the coefficient results generated from linear regressions. \n",
    "\n",
    "It is important to train different models and experiment with setting different values for the hyperparameters in order to find the optimal hyperparameters. Parameter tuning plays a significant role in machine learning because if the hyperparameters are not set up correctly, a very good algorithm may still output bad results. \n",
    "\n",
    "For example, we already observed how the decision tree application did not yield very good results. The problem may be that it isn't the algorithm that is causing the bad results, but that we need to adjust our features and parameters. This reason is why we we need fine tuning. We are now going to select different combinations of features in order to generate a better accuracy score. We are also going to experiment with setting our parameter of min_sample_split to different values in order to observe which specific value generates the best precision score. \n",
    "\n",
    "In the following codes below, we will be applying the Naive Bayes and the Decision Tree algorithms for different sets of features and make comparisons."
   ]
  },
  {
   "cell_type": "code",
   "execution_count": 56,
   "metadata": {},
   "outputs": [
    {
     "data": {
      "text/plain": [
       "6711258"
      ]
     },
     "execution_count": 56,
     "metadata": {},
     "output_type": "execute_result"
    }
   ],
   "source": [
    "##Checking to see if the numbers for bonus +salary does indeed = total_payments\n",
    "#Here, we're just checking for Skilling, Jeffrey. \n",
    "\n",
    "data_dict['SKILLING JEFFREY K'][\"salary\"]+data_dict['SKILLING JEFFREY K'][\"bonus\"]"
   ]
  },
  {
   "cell_type": "code",
   "execution_count": 57,
   "metadata": {},
   "outputs": [
    {
     "name": "stdout",
     "output_type": "stream",
     "text": [
      "0.295454545455\n"
     ]
    }
   ],
   "source": [
    "#Now we're selecting the following features: poi, normalized_email_from_poi, normalized_email_to_poi, and total_payments.\n",
    "\n",
    "features_list = [\"poi\",\"normalized_email_from_poi\",\"normalized_email_to_poi\",'total_payments']\n",
    "\n",
    "t0 = time()\n",
    "\n",
    "clf = GaussianNB()\n",
    "clf.fit(features_training, labels_training)\n",
    "pred = clf.predict(features_testing)\n",
    "accuracy = accuracy_score(pred,labels_testing)\n",
    "print accuracy\n",
    "\n"
   ]
  },
  {
   "cell_type": "markdown",
   "metadata": {},
   "source": [
    "When the decision tree algorithm was applied setting the min samples split equal to 7, the accuracy turned out to be 0.77. When we used the Naive Bayes algorithm, our accuracy score resulted as 0.295, --much lower than the decision tree algorithm. Therefore, we can conclude that the Naive Bayes algorithm should not be used to analyze our data. \n",
    "\n",
    "\n",
    "Now we are going to experiment with fine tuning our data by changing our parameter which in this case, is the min samples split. When the min samples split was set to 2 (which is the default setting), the accuracy was fairly high with a score of 0.825. However, the accuracy score fluctuated from run to run. Thus, to tune our parameter, the min samples split had to be set to 4. Although the accuracy decreased as we increased the min samples split value, the run to run stability increased, and this is why we set our min samples split to equal 4. "
   ]
  },
  {
   "cell_type": "code",
   "execution_count": 58,
   "metadata": {},
   "outputs": [
    {
     "name": "stdout",
     "output_type": "stream",
     "text": [
      "accuracy before tuning  0.825\n",
      "Decision tree algorithm time: 0.002 s\n",
      "done in 0.002s\n",
      "Validating algorithm:\n",
      "accuracy after tuning =  0.8\n",
      "precision =  0.25\n",
      "recall =  0.166666666667\n"
     ]
    }
   ],
   "source": [
    "\n",
    "## Define the list of features according to our previous selection and making a copy of the data dictionary \n",
    "features_list = [\"poi\",\"normalized_email_from_poi\",\"normalized_email_to_poi\",'total_payments']\n",
    "\n",
    "my_dataset = data_dict\n",
    "\n",
    "data = featureFormat(my_dataset, features_list)\n",
    "\n",
    "##Splitting the data into POI and features \n",
    "labels, features = targetFeatureSplit(data)\n",
    "\n",
    "\n",
    "from sklearn import cross_validation\n",
    "features_training, features_testing, labels_training, labels_testing = cross_validation.train_test_split(features, labels, test_size=0.3, random_state=42)\n",
    "\n",
    "## Now we want to use K-fold for validation \n",
    "from sklearn.cross_validation import KFold\n",
    "kf=KFold(len(labels),3)\n",
    "for train_indices, test_indices in kf:\n",
    "   \n",
    "\n",
    "    features_train= [features[ii] for ii in train_indices]\n",
    "    features_test= [features[ii] for ii in test_indices]\n",
    "    labels_train=[labels[ii] for ii in train_indices]\n",
    "    labels_test=[labels[ii] for ii in test_indices]\n",
    "\n",
    "from sklearn.tree import DecisionTreeClassifier\n",
    "\n",
    "t0 = time()\n",
    "\n",
    "clf = DecisionTreeClassifier(min_samples_split=2)\n",
    "clf.fit(features_training,labels_training)\n",
    "pred= clf.predict(features_testing)\n",
    "score = clf.score(features_testing,labels_testing)\n",
    "print 'accuracy before tuning ', score\n",
    "\n",
    "print \"Decision tree algorithm time:\", round(time()-t0, 3), \"s\"\n",
    "\n",
    "\n",
    "## Now we are using manual tuning parameter for the min_samples_split=4\n",
    "t0 = time()\n",
    "clf = DecisionTreeClassifier(min_samples_split=4)\n",
    "clf = clf.fit(features_training,labels_training)\n",
    "pred= clf.predict(features_testing)\n",
    "print(\"done in %0.3fs\" % (time() - t0))\n",
    "\n",
    "acc=accuracy_score(labels_testing, pred)\n",
    "\n",
    "print \"Validating algorithm:\"\n",
    "print \"accuracy after tuning = \", acc\n",
    "\n",
    "## Calculating the ratio of true positives from all positives\n",
    "\n",
    "print 'precision = ', precision_score(labels_testing,pred)\n",
    "\n",
    "## Calculating ratio of true positives out of true positives and false negatives\n",
    "\n",
    "print 'recall = ', recall_score(labels_testing,pred)\n",
    "\n",
    "\n",
    "pickle.dump(clf, open(\"my_classifier.pkl\", \"w\") )\n",
    "pickle.dump(data_dict, open(\"my_dataset.pkl\", \"w\") )\n",
    "pickle.dump(features_list, open(\"my_feature_list.pkl\", \"w\") )\n"
   ]
  },
  {
   "cell_type": "markdown",
   "metadata": {},
   "source": [
    "There seems to be a small amount of run to run variability in precision. I believe this is happening due to overfitting when min samples split = 2. "
   ]
  },
  {
   "cell_type": "raw",
   "metadata": {},
   "source": [
    "min_samples_split    Accuracy    \n",
    "      2                0.825       \n",
    "      3                0.825        \n",
    "      4                0.8       \n",
    "      5                0.8         \n",
    "      6                0.825       \n",
    "      7                0.85        \n",
    "      8                0.825"
   ]
  },
  {
   "cell_type": "code",
   "execution_count": 59,
   "metadata": {},
   "outputs": [
    {
     "name": "stdout",
     "output_type": "stream",
     "text": [
      "0.821428571429\n"
     ]
    }
   ],
   "source": [
    "Average= [0.825,0.825,0.8,0.8,0.825,0.85,0.825]\n",
    "import numpy as np\n",
    "print np.mean(Average)\n"
   ]
  },
  {
   "cell_type": "markdown",
   "metadata": {},
   "source": [
    "To fine tune our parameters, we experimented with adjusting the min samples split. We compared the cross validation for min samples split = 2 with the min samples split = 4. The accuracy score before the fine tuning was 0.8. The accuracy score after the fine tuning of our parameter turned out to be 0.825. Thus, there is only a very small variation in the accuracy scores, indicating that the degree of overfitting may not be significant. "
   ]
  },
  {
   "cell_type": "code",
   "execution_count": 60,
   "metadata": {},
   "outputs": [
    {
     "data": {
      "text/plain": [
       "0.54902962206332995"
      ]
     },
     "execution_count": 60,
     "metadata": {},
     "output_type": "execute_result"
    }
   ],
   "source": [
    "#Here we are calculating the F Beta Score \n",
    "\n",
    "from sklearn.metrics import fbeta_score\n",
    "y_true = labels_testing\n",
    "y_pred = pred\n",
    "fbeta_score(y_true, y_pred, average='macro', beta=0.5)\n"
   ]
  },
  {
   "cell_type": "markdown",
   "metadata": {},
   "source": [
    "When we used the poi, normalized email from poi, normalized email to  poi, and the total payments features, we could not obtain a high accuracy score. Thus, we are going to experiment with another set of features to see if the different combination of features would yield better results. \n",
    "\n",
    "Now, the following codes will run the Naive Bayes and the Decision Tree algorithms for the following combination of features: POI, normalized email from poi, normalized email to poi, and shared receipts with poi.  "
   ]
  },
  {
   "cell_type": "code",
   "execution_count": 61,
   "metadata": {},
   "outputs": [
    {
     "name": "stdout",
     "output_type": "stream",
     "text": [
      "0.85\n"
     ]
    }
   ],
   "source": [
    "#Now we're selecting the following features: poi, normalized_email_from_poi, normalized_email_to_poi, and shared_receipt_with_poi.\n",
    "\n",
    "features_list = [\"poi\",\"normalized_email_from_poi\",\"normalized_email_to_poi\",'shared_receipt_with_poi']\n",
    "\n",
    "t0 = time()\n",
    "\n",
    "clf = GaussianNB()\n",
    "clf.fit(features_training, labels_training)\n",
    "pred = clf.predict(features_testing)\n",
    "accuracy = accuracy_score(pred,labels_testing)\n",
    "print accuracy\n",
    "\n"
   ]
  },
  {
   "cell_type": "markdown",
   "metadata": {},
   "source": [
    "We can observe that our accuracy score improved when we changed our feature selection to using shared receipts instead of total payments. Now our accuracy score from running the Naive Bayes algorithm is 0.85, improving significantly from our previous result of 0.29."
   ]
  },
  {
   "cell_type": "markdown",
   "metadata": {},
   "source": [
    "The reason why total payments may not have been a good feature selection may be that total payments is the sum of bonus and salary, and this reason may have contributed to our low precision and accuracy scores. We have already seen from running a regression on bonus and salary that these features may not be the most optimal features to use. Shared receipts with POI feature may be a better selection because perhaps intuitively, a stronger relationship is implied between a POI and an employee when there are shared receipts between them. \n",
    "\n",
    "In the code below, we're going to see if we can yield better results using the shared receipts instead of total payments in our decision tree algorithm. "
   ]
  },
  {
   "cell_type": "code",
   "execution_count": 62,
   "metadata": {},
   "outputs": [
    {
     "name": "stdout",
     "output_type": "stream",
     "text": [
      "accuracy before tuning  0.884615384615\n",
      "Decision tree algorithm time: 0.003 s\n",
      "done in 0.003s\n",
      "Validating algorithm:\n",
      "accuracy after tuning =  0.884615384615\n",
      "precision =  0.666666666667\n",
      "recall =  0.5\n"
     ]
    }
   ],
   "source": [
    "## Define the list of features according to our previous selection and making a copy of the data dictionary \n",
    "features_list = [\"poi\",\"normalized_email_from_poi\",\"normalized_email_to_poi\",'shared_receipt_with_poi']\n",
    "\n",
    "my_dataset = data_dict\n",
    "\n",
    "data = featureFormat(my_dataset, features_list)\n",
    "\n",
    "##Splitting the data into POI and features \n",
    "labels, features = targetFeatureSplit(data)\n",
    "\n",
    "\n",
    "from sklearn import cross_validation\n",
    "features_training, features_testing, labels_training, labels_testing = cross_validation.train_test_split(features, labels, test_size=0.3, random_state=42)\n",
    "\n",
    "## Now we want to use K-fold for validation \n",
    "from sklearn.cross_validation import KFold\n",
    "kf=KFold(len(labels),3)\n",
    "for train_indices, test_indices in kf:\n",
    "   \n",
    "\n",
    "    features_train= [features[ii] for ii in train_indices]\n",
    "    features_test= [features[ii] for ii in test_indices]\n",
    "    labels_train=[labels[ii] for ii in train_indices]\n",
    "    labels_test=[labels[ii] for ii in test_indices]\n",
    "\n",
    "from sklearn.tree import DecisionTreeClassifier\n",
    "\n",
    "t0 = time()\n",
    "\n",
    "clf = DecisionTreeClassifier(min_samples_split=2)\n",
    "clf.fit(features_training,labels_training)\n",
    "pred= clf.predict(features_testing)\n",
    "score = clf.score(features_testing,labels_testing)\n",
    "print 'accuracy before tuning ', score\n",
    "\n",
    "print \"Decision tree algorithm time:\", round(time()-t0, 3), \"s\"\n",
    "\n",
    "\n",
    "## Now we are using manual tuning parameter for the min_samples_split=4\n",
    "t0 = time()\n",
    "clf = DecisionTreeClassifier(min_samples_split=7)\n",
    "clf = clf.fit(features_training,labels_training)\n",
    "pred= clf.predict(features_testing)\n",
    "print(\"done in %0.3fs\" % (time() - t0))\n",
    "\n",
    "acc=accuracy_score(labels_testing, pred)\n",
    "\n",
    "print \"Validating algorithm:\"\n",
    "print \"accuracy after tuning = \", acc\n",
    "\n",
    "## Calculating the ratio of true positives from all positives\n",
    "\n",
    "print 'precision = ', precision_score(labels_testing,pred)\n",
    "\n",
    "## Calculating ratio of true positives out of true positives and false negatives\n",
    "\n",
    "print 'recall = ', recall_score(labels_testing,pred)\n",
    "\n",
    "\n",
    "pickle.dump(clf, open(\"my_classifier.pkl\", \"w\") )\n",
    "pickle.dump(data_dict, open(\"my_dataset.pkl\", \"w\") )\n",
    "pickle.dump(features_list, open(\"my_feature_list.pkl\", \"w\") )\n"
   ]
  },
  {
   "cell_type": "raw",
   "metadata": {},
   "source": [
    "min_samples_split    Accuracy             Precision    Recall\n",
    "           \n",
    "      3                0.884615384615     0.67           0.5\n",
    "      4                0.884615384615     0.67           0.5\n",
    "      5                0.884615384615     0.67           0.5\n",
    "      6                0.884615384615     0.67           0.5\n",
    "      7                0.884615384615     0.67           0.5\n",
    "      8                0.884615384615     0.67           0.5\n",
    "      Average          0.8846             0.67           0.5"
   ]
  },
  {
   "cell_type": "markdown",
   "metadata": {},
   "source": [
    "Compared with the total payments feature, using the shared receipt with POI feature shows better stability in the algorithm. We can see that the accuracy does not change as the min samples split value varies. The accuracy remained as 0.884615384615. \n",
    "\n",
    "Now, our precision is approximately 0.67 and our recall is 0.5. "
   ]
  },
  {
   "cell_type": "markdown",
   "metadata": {},
   "source": [
    "In the code below, we see that our F-Beta score has also improved. Our F-beta score was originally 0.43421052631578944 when we used total payments as one of our features. Now, it is 0.77302631578947367 when we replaced total payments with shared receipt with POI. "
   ]
  },
  {
   "cell_type": "code",
   "execution_count": 63,
   "metadata": {},
   "outputs": [
    {
     "data": {
      "text/plain": [
       "0.77302631578947367"
      ]
     },
     "execution_count": 63,
     "metadata": {},
     "output_type": "execute_result"
    }
   ],
   "source": [
    "#Here we are calculating the F Beta Score \n",
    "\n",
    "from sklearn.metrics import fbeta_score\n",
    "y_true = labels_testing\n",
    "y_pred = pred\n",
    "fbeta_score(y_true, y_pred, average='macro', beta=0.5)\n"
   ]
  },
  {
   "cell_type": "markdown",
   "metadata": {},
   "source": [
    "## Validation\n",
    "\n",
    "Because there is a need to test the stability of a machine learning model, validation is an important step in this project. Validation is the process of deciding whether the numerical results quantifying the hypothesized relationships between the variables are acceptable as described by the data. We also want low bias and variance when we are performing validation. \n",
    "\n",
    "Validation is also important because it can test the general power of the model on an unseen dataset. However, validation does not necessarily give a good indication of how well the model will generalize to an independent and unseen data set, but only gives an idea about how well the selected model does on the data used to train it. Therefore, a common problem with validation is under or overfitting of the data. \n",
    "\n",
    "We applied the 3-fold cross validation using the following features: POI, normalized email to poi, normalized email from poi, and shared receipt with POI. The min samples split was sensitive when we used these four features. We obtained a precision score of 0.67 and a recall score of 0.5. \n",
    "\n",
    "The application of 3-fold cross-validation was used to generate the precision and recall scores. Generally, accuracy score is a good way to evaluate this algorithm. However, 3-fold cross validation may not be the best model to analyze our data because in our case, we have an imbalance issue in that the proportion of POIs is quite small relative to the non POIs. "
   ]
  },
  {
   "cell_type": "markdown",
   "metadata": {},
   "source": [
    "Thus, to address this imbalance issue, we are now going to apply the stratified shuffle-split cross-validator. This method provides us with the training/testing indices to split the data in training/testing sets.\n",
    "\n",
    "We also chose this method because this cross-validation object is a merge of the StratifiedKFold and ShuffleSplit, returning stratified randomized folds. These folds are generated by preserving the percentage of samples for each class. Using the stratified shuffle-split means that the data is shuffled every time, and then split, letting the testing sets overlap between the splits."
   ]
  },
  {
   "cell_type": "code",
   "execution_count": 64,
   "metadata": {},
   "outputs": [
    {
     "name": "stdout",
     "output_type": "stream",
     "text": [
      "accuracy of learning algorithm  0.909090909091\n",
      "Pipeline(memory=None,\n",
      "     steps=[('feature_selection', SelectKBest(k=35, score_func=<function f_classif at 0x1a125f37d0>)), ('scaler', MinMaxScaler(copy=True, feature_range=(0, 1))), ('PCA', PCA(copy=True, iterated_power='auto', n_components=19, random_state=42,\n",
      "  svd_solver='auto', tol=0.0, whiten=True)), ('classifier', LinearSVC(C=1.0, class_weight=None, dual=True, fit_intercept=True,\n",
      "     intercept_scaling=1, loss='hinge', max_iter=1000, multi_class='ovr',\n",
      "     penalty='l2', random_state=None, tol=0.0001, verbose=0))])\n",
      "precision =  0.6\n",
      "recall =  0.6\n"
     ]
    }
   ],
   "source": [
    "#!/usr/bin/python\n",
    "# Note that this file must be run from within anaconda to insure that all the libraries are found. \n",
    "# Note that all personal workspaces have been removed from these codes and it should run in any directory: \n",
    "import sys\n",
    "import pickle\n",
    "sys.path.append(\"../tools/\")\n",
    "from feature_format import featureFormat, targetFeatureSplit\n",
    "from tester import dump_classifier_and_data\n",
    "from sklearn import preprocessing\n",
    "from sklearn.cross_validation import train_test_split\n",
    "from sklearn.feature_selection import SelectKBest\n",
    "from sklearn.svm import LinearSVC\n",
    "from sklearn.decomposition import PCA\n",
    "from sklearn.cross_validation import StratifiedShuffleSplit\n",
    "from collections import defaultdict\n",
    "import sklearn.grid_search\n",
    "import sklearn.pipeline\n",
    "import math \n",
    "from sklearn import preprocessing\n",
    "from sklearn.linear_model import LogisticRegression\n",
    "\n",
    "### Task 1: Select what features you'll use.\n",
    "### The first feature must be \"poi\".\n",
    "finance_features = ['salary', 'deferral_payments', 'total_payments', 'loan_advances', 'bonus', 'restricted_stock_deferred', 'deferred_income', 'total_stock_value', 'expenses', 'exercised_stock_options', 'other', 'long_term_incentive', 'restricted_stock', 'director_fees'] \n",
    "##all units are in US dollars\n",
    "\n",
    "### Load the dictionary containing the dataset\n",
    "with open(\"final_project_dataset.pkl\", \"r\") as data_file:\n",
    "    data_dict = pickle.load(data_file)\n",
    "my_dataset = data_dict\n",
    "\n",
    "### Task 2: Remove outliers\n",
    "\n",
    "del my_dataset['TOTAL']\n",
    "\n",
    "### Task 3: Create new feature(s)\n",
    "\n",
    "\n",
    "features_list = [\"poi\",\"normalized_email_from_poi\",\"normalized_email_to_poi\",'shared_receipt_with_poi']\n",
    "\n",
    "\n",
    "\n",
    "def add_new_features(x):    \n",
    "    \"\"\"\n",
    "    Created three ratios based on email : to,from, and shared with POIs\n",
    "    \"\"\"\n",
    "    if(x['from_messages']!='NaN' and x['from_this_person_to_poi']!='NaN'):\n",
    "        ratio_from_x_to_poi = x['from_this_person_to_poi'] / float(x['from_messages'])\n",
    "    else:\n",
    "        ratio_from_x_to_poi = 0.\n",
    "\n",
    "    if(x['to_messages']!='NaN' or x['from_poi_to_this_person']!='NaN'):\n",
    "        ratio_from_poi_to_x = x['from_poi_to_this_person'] / float(x['to_messages'])\n",
    "    else:\n",
    "        ratio_from_poi_to_x = 0.        \n",
    "\n",
    "    if(x['to_messages']!='NaN' and x['shared_receipt_with_poi']!='NaN'):\n",
    "        ratio_shared_receipt_with_poi = x['shared_receipt_with_poi'] / float(x['to_messages'])\n",
    "    else:\n",
    "        ratio_shared_receipt_with_poi = 0.\n",
    "\n",
    "    return ratio_from_x_to_poi , ratio_from_poi_to_x , ratio_shared_receipt_with_poi\n",
    "\n",
    "#Initialize feature with 0.0\n",
    "for i in my_dataset:\n",
    "    my_dataset[i]['ratio_to_poi'] = 0.\n",
    "    my_dataset[i]['ratio_from_poi'] = 0.\n",
    "    my_dataset[i]['ratio_shared_receipt'] = 0.\n",
    "\n",
    "#Set value\n",
    "for i in my_dataset : \n",
    "    ratio_to_poi , ratio_from_poi , ratio_shared_receipt = add_new_features(my_dataset[i])\n",
    "    my_dataset[i]['ratio_to_poi'] = ratio_to_poi\n",
    "    my_dataset[i]['ratio_from_poi'] = ratio_from_poi\n",
    "    my_dataset[i]['ratio_shared_receipt'] = ratio_shared_receipt\n",
    "\n",
    "def log_features(x):\n",
    "    \n",
    "    d = defaultdict(lambda: 0.)\n",
    "    d.clear()\n",
    "    for features in x:\n",
    "        if(features in finance_features): \n",
    "            if(x[features] != 'NaN'):\n",
    "                if(x[features]!=0) :\n",
    "                    d['log_' + str(features)] = math.log(abs(x[features]) , 10)\n",
    "            else:\n",
    "                d['log_' + str(features)] = 0\n",
    "    return d\n",
    "\n",
    "for i in my_dataset : \n",
    "    d = log_features(my_dataset[i])\n",
    "    for features in d:\n",
    "        my_dataset[i][features] = d[features]\n",
    "\n",
    "\n",
    "features_all = set()\n",
    "for x in my_dataset : \n",
    "    for features in my_dataset[x]:\n",
    "        features_all.add(features)   \n",
    "try :\n",
    "    features_all.remove('poi')\n",
    "except KeyError:\n",
    "    pass\n",
    "\n",
    "features_list = ['poi']\n",
    "\n",
    "\n",
    "#Remove e-mail addresses field from the classification\n",
    "for i in features_all :        \n",
    "    if(i != 'email_address'):\n",
    "        features_list.append(i)    \n",
    "\n",
    "### Extracting features and labels from dataset for local testing\n",
    "\n",
    "\n",
    "data = featureFormat(my_dataset, features_list, sort_keys = True)\n",
    "\n",
    "labels, features = targetFeatureSplit(data)\n",
    "\n",
    "### Task 4: Try a varity of classifiers\n",
    "\n",
    "clf = LinearSVC()\n",
    "pca = PCA()\n",
    "scaler = preprocessing.MinMaxScaler()\n",
    "select = SelectKBest()\n",
    "\n",
    "features_train, features_test, labels_train, labels_test = \\\n",
    "    train_test_split(features, labels, test_size=0.3, random_state=42)          #extract features\n",
    "\n",
    "min_max_scaler = preprocessing.MinMaxScaler()\n",
    "\n",
    "features_train = min_max_scaler.fit_transform(features_train)\n",
    "### Task 5: Tune your classifier to achieve better than .3 precision and recall \n",
    "### using our testing script. Check the tester.py script in the final project\n",
    "### folder for details on the evaluation method, especially the test_classifier\n",
    "### function. \n",
    "\n",
    "steps = [('feature_selection' , select) ,('scaler' , scaler) , ('PCA' , pca) , ('classifier' , clf)]\n",
    "\n",
    "pipeline = sklearn.pipeline.Pipeline(steps)\n",
    "\n",
    "scaler = preprocessing.MinMaxScaler()\n",
    "\n",
    "\n",
    "\n",
    "parameters = parameters = dict(feature_selection__k= [35],      \n",
    "                               classifier__loss = ['hinge' , 'squared_hinge'] ,\n",
    "                               classifier__max_iter = [1000,500,2000] ,\n",
    "                               classifier__multi_class = ['ovr' , 'crammer_singer'] ,\n",
    "                               PCA__n_components =  [19] ,\n",
    "                               PCA__random_state = [42] ,\n",
    "                               PCA__whiten = [True , False])\n",
    "\n",
    "sss = StratifiedShuffleSplit(labels, 10, test_size=0.3, random_state=42)\n",
    "\n",
    "cv = sklearn.grid_search.GridSearchCV(pipeline, param_grid = parameters , scoring = 'f1' ,cv = sss)\n",
    "\n",
    "cv.fit(features, labels)\n",
    "\n",
    "\n",
    "clf  = cv.best_estimator_\n",
    "score = clf.score(features_test,labels_test)\n",
    "print 'accuracy of learning algorithm ', score\n",
    "\n",
    "print(cv.best_estimator_)\n",
    "\n",
    "pred= clf.predict(features_test)\n",
    "print 'precision = ', precision_score(labels_test,pred)\n",
    "\n",
    "print 'recall = ', recall_score(labels_test,pred)\n",
    "\n",
    "### Task 6: Dump your classifier, dataset, and features_list so anyone can\n",
    "### check your results. You do not need to change anything below, but make sure\n",
    "### that the version of poi_id.py that you submit can be run on its own and\n",
    "### generates the necessary .pkl files for validating your results.\n",
    "\n",
    "dump_classifier_and_data(clf, my_dataset, features_list)"
   ]
  },
  {
   "cell_type": "markdown",
   "metadata": {},
   "source": [
    "# Conclusion \n",
    "\n",
    "We performed cross validation for 2 sets of features. First we experimented with using the POI, normalized email to poi, normalized email from poi, and the total payments features. However, these features did not generate a precision score greater than 0.3.\n",
    "\n",
    "Thus, we changed our feature selection in running the decision tree algorithm. We used the POI, normalized email to poi, normalized email from poi, and the shared receipt with POI as our features. On average, the accuracy of our min samples split turned out to be 0.884615384615. The precision is the likelihood that a person who is identified as a POI is in fact, a true POI. Given that our average was 0.67, this means that approximately, 33% of the result from using the decision tree algorithm gave us false alarms.\n",
    "\n",
    "The F-Beta score is the weighted harmonic mean of precision and recall, with a maximum value of 1 and a minimum value of 0. Our F-beta score was 0.43814432989690727 when we used the POI, normalized email to poi, normalized email from poi, and total payments as our features. Our F-Beta score improved to 0.77302631578947367 when we selected shared receipt with POI feature instead of the total payments feature.\n",
    "\n",
    "Our Naive Bayes accuracy was originally less than 0.3 when we used the total payments feature. However, when we used the shared receipt with POI instead of the total payments feature, our accuracy increased to  0.807692307692. \n",
    "\n",
    "We selected the stratified shuffle split as our final features algorithm because of the imbalance in the dataset as mentioned previously. The stratified shuffle split gave us the best results compared to the other algorithms we tried. When we applied this algorithm, our accuracy score was 0.909090909091. The precision and recall scores resulted as 0.6.\n",
    "\n",
    "Thus, the application of the decision tree algorithm, F-Beta Score, Naive Bayes, and the stratified shuffle split indicate that the algorithms have generalized from the training to the testing data set when we used the POI, normalized email to poi, normalized email from poi, and shared receipt with POI features. \n",
    "\n"
   ]
  }
 ],
 "metadata": {
  "kernelspec": {
   "display_name": "Python 2",
   "language": "python",
   "name": "python2"
  },
  "language_info": {
   "codemirror_mode": {
    "name": "ipython",
    "version": 2
   },
   "file_extension": ".py",
   "mimetype": "text/x-python",
   "name": "python",
   "nbconvert_exporter": "python",
   "pygments_lexer": "ipython2",
   "version": "2.7.14"
  }
 },
 "nbformat": 4,
 "nbformat_minor": 2
}
